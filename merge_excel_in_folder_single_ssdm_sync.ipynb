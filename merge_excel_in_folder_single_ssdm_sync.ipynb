{
 "cells": [
  {
   "cell_type": "code",
   "execution_count": 4,
   "id": "893c7d79",
   "metadata": {},
   "outputs": [
    {
     "name": "stdout",
     "output_type": "stream",
     "text": [
      "['/Users/piixel/Downloads/SMK DAMAI JAYA/Submission Details (92).xlsx', '/Users/piixel/Downloads/SMK DAMAI JAYA/Submission Details (52).xlsx', '/Users/piixel/Downloads/SMK DAMAI JAYA/Submission Details (17).xlsx', '/Users/piixel/Downloads/SMK DAMAI JAYA/Submission Details - 2023-08-23T103035.197.xlsx', '/Users/piixel/Downloads/SMK DAMAI JAYA/Submission Details (76).xlsx', '/Users/piixel/Downloads/SMK DAMAI JAYA/Submission Details (33).xlsx', '/Users/piixel/Downloads/SMK DAMAI JAYA/Submission Details - 2023-08-23T103022.362.xlsx', '/Users/piixel/Downloads/SMK DAMAI JAYA/Submission Details (49).xlsx', '/Users/piixel/Downloads/SMK DAMAI JAYA/Submission Details - 2023-08-23T103114.728.xlsx', '/Users/piixel/Downloads/SMK DAMAI JAYA/Submission Details (74).xlsx', '/Users/piixel/Downloads/SMK DAMAI JAYA/Submission Details (31).xlsx', '/Users/piixel/Downloads/SMK DAMAI JAYA/Submission Details (89).xlsx', '/Users/piixel/Downloads/SMK DAMAI JAYA/Submission Details - 2023-08-23T103202.478.xlsx', '/Users/piixel/Downloads/SMK DAMAI JAYA/Submission Details (50).xlsx', '/Users/piixel/Downloads/SMK DAMAI JAYA/Submission Details (15).xlsx', '/Users/piixel/Downloads/SMK DAMAI JAYA/Submission Details - 2023-08-23T103400.214.xlsx', '/Users/piixel/Downloads/SMK DAMAI JAYA/Submission Details (28).xlsx', '/Users/piixel/Downloads/SMK DAMAI JAYA/Submission Details (90).xlsx', '/Users/piixel/Downloads/SMK DAMAI JAYA/Submission Details - 2023-08-23T103154.214.xlsx', '/Users/piixel/Downloads/SMK DAMAI JAYA/Submission Details - 2023-08-23T103302.095.xlsx', '/Users/piixel/Downloads/SMK DAMAI JAYA/Submission Details (54).xlsx', '/Users/piixel/Downloads/SMK DAMAI JAYA/Submission Details (11).xlsx', '/Users/piixel/Downloads/SMK DAMAI JAYA/Submission Details (94).xlsx', '/Users/piixel/Downloads/SMK DAMAI JAYA/Submission Details - 2023-08-23T103215.419.xlsx', '/Users/piixel/Downloads/SMK DAMAI JAYA/Submission Details (69).xlsx', '/Users/piixel/Downloads/SMK DAMAI JAYA/Submission Details - 2023-08-23T103141.544.xlsx', '/Users/piixel/Downloads/SMK DAMAI JAYA/Submission Details (8).xlsx', '/Users/piixel/Downloads/SMK DAMAI JAYA/Submission Details (70).xlsx', '/Users/piixel/Downloads/SMK DAMAI JAYA/Submission Details (35).xlsx', '/Users/piixel/Downloads/SMK DAMAI JAYA/Submission Details (72).xlsx', '/Users/piixel/Downloads/SMK DAMAI JAYA/Submission Details (37).xlsx', '/Users/piixel/Downloads/SMK DAMAI JAYA/Submission Details - 2023-08-23T103119.153.xlsx', '/Users/piixel/Downloads/SMK DAMAI JAYA/Submission Details - 2023-08-23T103310.432.xlsx', '/Users/piixel/Downloads/SMK DAMAI JAYA/Submission Details - 2023-08-23T103233.027.xlsx', '/Users/piixel/Downloads/SMK DAMAI JAYA/Submission Details - 2023-08-23T103324.428.xlsx', '/Users/piixel/Downloads/SMK DAMAI JAYA/Submission Details - 2023-08-23T103047.767.xlsx', '/Users/piixel/Downloads/SMK DAMAI JAYA/Submission Details (100).xlsx', '/Users/piixel/Downloads/SMK DAMAI JAYA/Submission Details (96).xlsx', '/Users/piixel/Downloads/SMK DAMAI JAYA/Submission Details (56).xlsx', '/Users/piixel/Downloads/SMK DAMAI JAYA/Submission Details (13).xlsx', '/Users/piixel/Downloads/SMK DAMAI JAYA/Submission Details (30).xlsx', '/Users/piixel/Downloads/SMK DAMAI JAYA/Submission Details (75).xlsx', '/Users/piixel/Downloads/SMK DAMAI JAYA/Submission Details (88).xlsx', '/Users/piixel/Downloads/SMK DAMAI JAYA/Submission Details (48).xlsx', '/Users/piixel/Downloads/SMK DAMAI JAYA/Submission Details (29).xlsx', '/Users/piixel/Downloads/SMK DAMAI JAYA/Submission Details (91).xlsx', '/Users/piixel/Downloads/SMK DAMAI JAYA/Submission Details - 2023-08-23T103031.042.xlsx', '/Users/piixel/Downloads/SMK DAMAI JAYA/Submission Details - 2023-08-23T103333.357.xlsx', '/Users/piixel/Downloads/SMK DAMAI JAYA/Submission Details (14).xlsx', '/Users/piixel/Downloads/SMK DAMAI JAYA/Submission Details (51).xlsx', '/Users/piixel/Downloads/SMK DAMAI JAYA/Submission Details - 2023-08-23T103052.046.xlsx', '/Users/piixel/Downloads/SMK DAMAI JAYA/Submission Details (16).xlsx', '/Users/piixel/Downloads/SMK DAMAI JAYA/Submission Details (53).xlsx', '/Users/piixel/Downloads/SMK DAMAI JAYA/Submission Details - 2023-08-23T103043.484.xlsx', '/Users/piixel/Downloads/SMK DAMAI JAYA/Submission Details (93).xlsx', '/Users/piixel/Downloads/SMK DAMAI JAYA/Submission Details - 2023-08-23T103100.634.xlsx', '/Users/piixel/Downloads/SMK DAMAI JAYA/Submission Details (32).xlsx', '/Users/piixel/Downloads/SMK DAMAI JAYA/Submission Details (77).xlsx', '/Users/piixel/Downloads/SMK DAMAI JAYA/Submission Details - 2023-08-23T103249.705.xlsx', '/Users/piixel/Downloads/SMK DAMAI JAYA/Submission Details - 2023-08-23T103314.545.xlsx', '/Users/piixel/Downloads/SMK DAMAI JAYA/Submission Details (36).xlsx', '/Users/piixel/Downloads/SMK DAMAI JAYA/Submission Details (73).xlsx', '/Users/piixel/Downloads/SMK DAMAI JAYA/Submission Details - 2023-08-23T103127.745.xlsx', '/Users/piixel/Downloads/SMK DAMAI JAYA/Submission Details - 2023-08-23T103150.010.xlsx', '/Users/piixel/Downloads/SMK DAMAI JAYA/Submission Details (12).xlsx', '/Users/piixel/Downloads/SMK DAMAI JAYA/Submission Details (57).xlsx', '/Users/piixel/Downloads/SMK DAMAI JAYA/Submission Details (97).xlsx', '/Users/piixel/Downloads/SMK DAMAI JAYA/Submission Details (95).xlsx', '/Users/piixel/Downloads/SMK DAMAI JAYA/Submission Details (68).xlsx', '/Users/piixel/Downloads/SMK DAMAI JAYA/Submission Details - 2023-08-23T103158.408.xlsx', '/Users/piixel/Downloads/SMK DAMAI JAYA/Submission Details (10).xlsx', '/Users/piixel/Downloads/SMK DAMAI JAYA/Submission Details (55).xlsx', '/Users/piixel/Downloads/SMK DAMAI JAYA/Submission Details.xlsx', '/Users/piixel/Downloads/SMK DAMAI JAYA/Submission Details (34).xlsx', '/Users/piixel/Downloads/SMK DAMAI JAYA/Submission Details (71).xlsx', '/Users/piixel/Downloads/SMK DAMAI JAYA/Submission Details (9).xlsx', '/Users/piixel/Downloads/SMK DAMAI JAYA/Submission Details (40).xlsx', '/Users/piixel/Downloads/SMK DAMAI JAYA/Submission Details (5).xlsx', '/Users/piixel/Downloads/SMK DAMAI JAYA/Submission Details (80).xlsx', '/Users/piixel/Downloads/SMK DAMAI JAYA/Submission Details (38).xlsx', '/Users/piixel/Downloads/SMK DAMAI JAYA/Submission Details - 2023-08-23T103253.520.xlsx', '/Users/piixel/Downloads/SMK DAMAI JAYA/Submission Details (59).xlsx', '/Users/piixel/Downloads/SMK DAMAI JAYA/Submission Details (99).xlsx', '/Users/piixel/Downloads/SMK DAMAI JAYA/Submission Details (64).xlsx', '/Users/piixel/Downloads/SMK DAMAI JAYA/Submission Details (21).xlsx', '/Users/piixel/Downloads/SMK DAMAI JAYA/Submission Details (66).xlsx', '/Users/piixel/Downloads/SMK DAMAI JAYA/Submission Details (23).xlsx', '/Users/piixel/Downloads/SMK DAMAI JAYA/Submission Details - 2023-08-23T103210.873.xlsx', '/Users/piixel/Downloads/SMK DAMAI JAYA/Submission Details - 2023-08-23T103319.961.xlsx', '/Users/piixel/Downloads/SMK DAMAI JAYA/Submission Details - 2023-08-23T103110.344.xlsx', '/Users/piixel/Downloads/SMK DAMAI JAYA/Submission Details (82).xlsx', '/Users/piixel/Downloads/SMK DAMAI JAYA/Submission Details - 2023-08-23T103257.871.xlsx', '/Users/piixel/Downloads/SMK DAMAI JAYA/Submission Details - 2023-08-23T103219.677.xlsx', '/Users/piixel/Downloads/SMK DAMAI JAYA/Submission Details (42).xlsx', '/Users/piixel/Downloads/SMK DAMAI JAYA/Submission Details (7).xlsx', '/Users/piixel/Downloads/SMK DAMAI JAYA/Submission Details (86).xlsx', '/Users/piixel/Downloads/SMK DAMAI JAYA/Submission Details - 2023-08-23T103105.947.xlsx', '/Users/piixel/Downloads/SMK DAMAI JAYA/Submission Details (3).xlsx', '/Users/piixel/Downloads/SMK DAMAI JAYA/Submission Details (46).xlsx', '/Users/piixel/Downloads/SMK DAMAI JAYA/Submission Details - 2023-08-23T103241.451.xlsx', '/Users/piixel/Downloads/SMK DAMAI JAYA/Submission Details - 2023-08-23T103026.703.xlsx', '/Users/piixel/Downloads/SMK DAMAI JAYA/Submission Details (62).xlsx', '/Users/piixel/Downloads/SMK DAMAI JAYA/Submission Details (27).xlsx', '/Users/piixel/Downloads/SMK DAMAI JAYA/Submission Details - 2023-08-23T103328.923.xlsx', '/Users/piixel/Downloads/SMK DAMAI JAYA/Submission Details (18).xlsx', '/Users/piixel/Downloads/SMK DAMAI JAYA/Submission Details - 2023-08-23T103206.536.xlsx', '/Users/piixel/Downloads/SMK DAMAI JAYA/Submission Details (60).xlsx', '/Users/piixel/Downloads/SMK DAMAI JAYA/Submission Details (25).xlsx', '/Users/piixel/Downloads/SMK DAMAI JAYA/Submission Details - 2023-08-23T103245.756.xlsx', '/Users/piixel/Downloads/SMK DAMAI JAYA/Submission Details (1).xlsx', '/Users/piixel/Downloads/SMK DAMAI JAYA/Submission Details (44).xlsx', '/Users/piixel/Downloads/SMK DAMAI JAYA/Submission Details - 2023-08-23T103224.389.xlsx', '/Users/piixel/Downloads/SMK DAMAI JAYA/Submission Details (79).xlsx', '/Users/piixel/Downloads/SMK DAMAI JAYA/Submission Details (84).xlsx', '/Users/piixel/Downloads/SMK DAMAI JAYA/Submission Details - 2023-08-23T103039.673.xlsx', '/Users/piixel/Downloads/SMK DAMAI JAYA/Submission Details (22).xlsx', '/Users/piixel/Downloads/SMK DAMAI JAYA/Submission Details (67).xlsx', '/Users/piixel/Downloads/SMK DAMAI JAYA/Submission Details - 2023-08-23T103136.971.xlsx', '/Users/piixel/Downloads/SMK DAMAI JAYA/Submission Details - 2023-08-23T103145.990.xlsx', '/Users/piixel/Downloads/SMK DAMAI JAYA/Submission Details (6).xlsx', '/Users/piixel/Downloads/SMK DAMAI JAYA/Submission Details (43).xlsx', '/Users/piixel/Downloads/SMK DAMAI JAYA/Submission Details - 2023-08-23T103341.500.xlsx', '/Users/piixel/Downloads/SMK DAMAI JAYA/Submission Details (83).xlsx', '/Users/piixel/Downloads/SMK DAMAI JAYA/Submission Details (81).xlsx', '/Users/piixel/Downloads/SMK DAMAI JAYA/Submission Details (39).xlsx', '/Users/piixel/Downloads/SMK DAMAI JAYA/Submission Details (4).xlsx', '/Users/piixel/Downloads/SMK DAMAI JAYA/Submission Details (41).xlsx', '/Users/piixel/Downloads/SMK DAMAI JAYA/Submission Details (98).xlsx', '/Users/piixel/Downloads/SMK DAMAI JAYA/Submission Details (20).xlsx', '/Users/piixel/Downloads/SMK DAMAI JAYA/Submission Details (65).xlsx', '/Users/piixel/Downloads/SMK DAMAI JAYA/Submission Details (58).xlsx', '/Users/piixel/Downloads/SMK DAMAI JAYA/Submission Details (24).xlsx', '/Users/piixel/Downloads/SMK DAMAI JAYA/Submission Details (61).xlsx', '/Users/piixel/Downloads/SMK DAMAI JAYA/Submission Details - 2023-08-23T103345.885.xlsx', '/Users/piixel/Downloads/SMK DAMAI JAYA/Submission Details - 2023-08-23T103228.668.xlsx', '/Users/piixel/Downloads/SMK DAMAI JAYA/Submission Details (19).xlsx', '/Users/piixel/Downloads/SMK DAMAI JAYA/Submission Details - 2023-08-23T103306.108.xlsx', '/Users/piixel/Downloads/SMK DAMAI JAYA/Submission Details (78).xlsx', '/Users/piixel/Downloads/SMK DAMAI JAYA/Submission Details (85).xlsx', '/Users/piixel/Downloads/SMK DAMAI JAYA/Submission Details (45).xlsx', '/Users/piixel/Downloads/SMK DAMAI JAYA/Submission Details (47).xlsx', '/Users/piixel/Downloads/SMK DAMAI JAYA/Submission Details (2).xlsx', '/Users/piixel/Downloads/SMK DAMAI JAYA/Submission Details - 2023-08-23T103337.192.xlsx', '/Users/piixel/Downloads/SMK DAMAI JAYA/Submission Details (87).xlsx', '/Users/piixel/Downloads/SMK DAMAI JAYA/Submission Details - 2023-08-23T103132.397.xlsx', '/Users/piixel/Downloads/SMK DAMAI JAYA/Submission Details - 2023-08-23T103237.142.xlsx', '/Users/piixel/Downloads/SMK DAMAI JAYA/Submission Details - 2023-08-23T103123.364.xlsx', '/Users/piixel/Downloads/SMK DAMAI JAYA/Submission Details (26).xlsx', '/Users/piixel/Downloads/SMK DAMAI JAYA/Submission Details (63).xlsx', '/Users/piixel/Downloads/SMK DAMAI JAYA/Submission Details - 2023-08-23T103056.201.xlsx']\n"
     ]
    },
    {
     "name": "stdout",
     "output_type": "stream",
     "text": [
      "Final Excel sheet generated and saved to: /Users/piixel/Downloads/SMK DAMAI JAYA.xlsx\n"
     ]
    }
   ],
   "source": [
    "import os\n",
    "import glob2\n",
    "import pandas as pd\n",
    "\n",
    "folder_path = \"/Users/piixel/Downloads/SMK DAMAI JAYA\"\n",
    "\n",
    "filenames = glob2.glob(os.path.join(folder_path + \"/*.xlsx\"))\n",
    "outputcsv = pd.DataFrame()\n",
    "print(filenames)\n",
    "\n",
    "for file in filenames:\n",
    "    df = pd.read_excel(file)\n",
    "    Synced = 0\n",
    "    df['Synced'] = Synced\n",
    "    outputcsv = outputcsv.append(df, ignore_index=True)\n",
    "\n",
    "outputcsv.drop(outputcsv.columns[[1, 4, 5, 6]], axis=1, inplace=True)\n",
    "\n",
    "output_path = \"/Users/piixel/Downloads/SMK DAMAI JAYA.xlsx\"\n",
    "outputcsv.to_csv(output_path, index=False)\n",
    "\n",
    "print(\"Final Excel sheet generated and saved to:\", output_path)\n"
   ]
  }
 ],
 "metadata": {
  "kernelspec": {
   "display_name": "Python 3 (ipykernel)",
   "language": "python",
   "name": "python3"
  },
  "language_info": {
   "codemirror_mode": {
    "name": "ipython",
    "version": 3
   },
   "file_extension": ".py",
   "mimetype": "text/x-python",
   "name": "python",
   "nbconvert_exporter": "python",
   "pygments_lexer": "ipython3",
   "version": "3.11.4"
  }
 },
 "nbformat": 4,
 "nbformat_minor": 5
}
