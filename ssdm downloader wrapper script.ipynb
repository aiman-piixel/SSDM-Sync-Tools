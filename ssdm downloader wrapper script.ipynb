{
 "cells": [
  {
   "cell_type": "code",
   "execution_count": null,
   "id": "e2f480bd",
   "metadata": {},
   "outputs": [
    {
     "name": "stdout",
     "output_type": "stream",
     "text": [
      "Target script returned non-zero exit code: 1\n",
      "Restarting the target script in 2 seconds...\n",
      "Target script returned non-zero exit code: 1\n",
      "Restarting the target script in 2 seconds...\n",
      "Target script returned non-zero exit code: 1\n",
      "Restarting the target script in 2 seconds...\n",
      "Target script returned non-zero exit code: 1\n",
      "Restarting the target script in 2 seconds...\n",
      "Target script returned non-zero exit code: 1\n",
      "Restarting the target script in 2 seconds...\n"
     ]
    }
   ],
   "source": [
    "import subprocess\n",
    "import time\n",
    "\n",
    "#rename accordingly to OS\n",
    "target = r\"C:\\Users\\Aiman\\Desktop\\SSDM-Sync-Tools-main\\download_ssdm_batch.py\"\n",
    "#target = \"/Users/piixel/Desktop/SSDM-Sync-Tools-main/download_ssdm_batch.py\"\n",
    "\n",
    "def run_target_script():\n",
    "    while True:\n",
    "        try:\n",
    "            # Launch the target script using subprocess\n",
    "            completed_process = subprocess.run([\"python\", target])\n",
    "            \n",
    "            # Check if the target script completed successfully\n",
    "            if completed_process.returncode == 0:\n",
    "                print(\"Target script completed successfully.\")\n",
    "                break  # End the loop\n",
    "            else:\n",
    "                print(f\"Target script returned non-zero exit code: {completed_process.returncode}\")\n",
    "            \n",
    "        except Exception as e:\n",
    "            print(f\"Error encountered: {e}\")\n",
    "        \n",
    "        # Wait for a certain duration before restarting\n",
    "        print(\"Restarting the target script in 2 seconds...\")\n",
    "        time.sleep(2)  # You can adjust the duration as needed\n",
    "\n",
    "if __name__ == \"__main__\":\n",
    "    run_target_script()"
   ]
  },
  {
   "cell_type": "code",
   "execution_count": null,
   "id": "aac9275a",
   "metadata": {},
   "outputs": [],
   "source": []
  }
 ],
 "metadata": {
  "kernelspec": {
   "display_name": "Python 3 (ipykernel)",
   "language": "python",
   "name": "python3"
  },
  "language_info": {
   "codemirror_mode": {
    "name": "ipython",
    "version": 3
   },
   "file_extension": ".py",
   "mimetype": "text/x-python",
   "name": "python",
   "nbconvert_exporter": "python",
   "pygments_lexer": "ipython3",
   "version": "3.11.4"
  }
 },
 "nbformat": 4,
 "nbformat_minor": 5
}
