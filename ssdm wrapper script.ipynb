{
 "cells": [
  {
   "cell_type": "code",
   "execution_count": 6,
   "id": "a5d5ce8b",
   "metadata": {},
   "outputs": [
    {
     "name": "stdout",
     "output_type": "stream",
     "text": [
      "Target script completed successfully.\n",
      "Elasped time: 1.3244 seconds\n"
     ]
    }
   ],
   "source": [
    "from selenium import webdriver\n",
    "from selenium.common.exceptions import TimeoutException, NoSuchElementException\n",
    "import subprocess\n",
    "import time\n",
    "import multiprocessing\n",
    "\n",
    "#rename accordingly to OS\n",
    "#target = r\"C:\\Users\\Aiman\\Downloads\\sync_ssdm + inactive ssdm_adminv2.py\"\n",
    "target = [\n",
    "    \"/Users/piixel/Documents/GitHub/python-script/sync_ssdm + inactive ssdm_adminv2.py\"\n",
    "]\n",
    "\n",
    "def run_target_script(): \n",
    "    while True:    \n",
    "        try:\n",
    "            completed_process = subprocess.run([\"python\", target], capture_output=True, check=True)\n",
    "            exit_code = completed_process.returncode\n",
    "            if exit_code == 0:\n",
    "                print(\"Target script completed successfully.\")\n",
    "                break  # Exit the loop if the script completes without errors\n",
    "            else:\n",
    "                print(\"Target script exited with code:\", exit_code)\n",
    "        except subprocess.CalledProcessError as e:\n",
    "            print(\"An error occurred:\", e)\n",
    "            \n",
    "        print(\"Restarting the target script in 2 seconds...\")\n",
    "        time.sleep(2)  # Wait before restarting\n",
    "\n",
    "if __name__ == \"__main__\":\n",
    "    start_time = time.time()\n",
    "    run_target_script()\n",
    "    \n",
    "    processes = []\n",
    "    for script_path in target_scripts:\n",
    "        process = multiprocessing.Process(target=run_target_script, args=(script_path,))\n",
    "        processes.append(process)\n",
    "        process.start()\n",
    "    \n",
    "    for process in processes:\n",
    "        process.join()\n",
    "    \n",
    "    end_time = time.time()\n",
    "    \n",
    "    elasped_time = end_time - start_time\n",
    "    print(f\"Elasped time: {elasped_time:.4f} seconds\")\n"
   ]
  },
  {
   "cell_type": "code",
   "execution_count": null,
   "id": "e2f480bd",
   "metadata": {},
   "outputs": [],
   "source": []
  }
 ],
 "metadata": {
  "kernelspec": {
   "display_name": "Python 3 (ipykernel)",
   "language": "python",
   "name": "python3"
  },
  "language_info": {
   "codemirror_mode": {
    "name": "ipython",
    "version": 3
   },
   "file_extension": ".py",
   "mimetype": "text/x-python",
   "name": "python",
   "nbconvert_exporter": "python",
   "pygments_lexer": "ipython3",
   "version": "3.7.16"
  }
 },
 "nbformat": 4,
 "nbformat_minor": 5
}
